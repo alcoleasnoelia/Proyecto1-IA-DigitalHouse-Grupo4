{
  "nbformat": 4,
  "nbformat_minor": 0,
  "metadata": {
    "colab": {
      "name": "1 - Desafio I - Modelos ML (title).ipynb",
      "provenance": [],
      "include_colab_link": true
    },
    "kernelspec": {
      "display_name": "Python 3",
      "language": "python",
      "name": "python3"
    },
    "language_info": {
      "codemirror_mode": {
        "name": "ipython",
        "version": 3
      },
      "file_extension": ".py",
      "mimetype": "text/x-python",
      "name": "python",
      "nbconvert_exporter": "python",
      "pygments_lexer": "ipython3",
      "version": "3.7.6"
    }
  },
  "cells": [
    {
      "cell_type": "markdown",
      "metadata": {
        "id": "view-in-github",
        "colab_type": "text"
      },
      "source": [
        "<a href=\"https://colab.research.google.com/github/alcoleasnoelia/Proyecto1-IA-DigitalHouse-Grupo4/blob/master/Notebook%20II%20-%20Modelos_ML_(title).ipynb\" target=\"_parent\"><img src=\"https://colab.research.google.com/assets/colab-badge.svg\" alt=\"Open In Colab\"/></a>"
      ]
    },
    {
      "cell_type": "markdown",
      "metadata": {
        "id": "J7aABcEU3fjj",
        "colab_type": "text"
      },
      "source": [
        "(Continuación de la notebook anterior)\n",
        "A partir del título de la noticia realizamos la predicción mediante modelos de \n",
        "\n",
        "Notebook 2\n",
        "\n",
        "4.  Feature Extraction\n",
        "    *   Count Vectorizer\n",
        "    *   TF-IDF Vectorizer\n",
        "5.  Modelado Inicial - Árboles de Decisión\n",
        "    *   Clasificadores\n",
        "    *   Cross Validation / GRIDSEARCH / RANDOMSEARCH ETC\n",
        "    *   Modelos de Ensamble"
      ]
    },
    {
      "cell_type": "code",
      "metadata": {
        "id": "VzsMDcdC3fjr",
        "colab_type": "code",
        "colab": {}
      },
      "source": [
        "import pandas as pd\n",
        "import numpy as np\n",
        "import seaborn as sns\n",
        "import matplotlib.pyplot as plt\n",
        "%matplotlib inline\n",
        "import pickle\n",
        "import re\n",
        "\n",
        "import string\n",
        "from sklearn.model_selection import train_test_split, StratifiedKFold\n",
        "\n",
        "from sklearn.naive_bayes import MultinomialNB\n",
        "from sklearn.feature_extraction.text import TfidfVectorizer\n",
        "from sklearn.feature_extraction.text import CountVectorizer\n",
        "from nltk.stem.snowball import SnowballStemmer"
      ],
      "execution_count": 0,
      "outputs": []
    },
    {
      "cell_type": "code",
      "metadata": {
        "id": "E7MD-Qvy3fkB",
        "colab_type": "code",
        "colab": {}
      },
      "source": [
        "def correr_stemming(text):\n",
        "    # Stemming\n",
        "    text = text.split()\n",
        "    stemmer = SnowballStemmer('english')\n",
        "    stemmed_words = [stemmer.stem(word) for word in text]\n",
        "    text = \" \".join(stemmed_words)\n",
        "    return(text)"
      ],
      "execution_count": 0,
      "outputs": []
    },
    {
      "cell_type": "markdown",
      "metadata": {
        "colab_type": "text",
        "id": "-i3Tilcfb3Ub"
      },
      "source": [
        "Cargamos el dataset a partir del pickle generado por la notebook de limpieza:"
      ]
    },
    {
      "cell_type": "code",
      "metadata": {
        "colab_type": "code",
        "id": "oEL723aFb3Uc",
        "colab": {}
      },
      "source": [
        "news = pd.read_pickle(\"news_.p\")"
      ],
      "execution_count": 0,
      "outputs": []
    },
    {
      "cell_type": "code",
      "metadata": {
        "colab_type": "code",
        "id": "LS9zw5BM5PI_",
        "outputId": "3b0cbf2e-1fd2-44a9-b0db-c672ed31557b",
        "colab": {}
      },
      "source": [
        "news.head(5)"
      ],
      "execution_count": 0,
      "outputs": [
        {
          "output_type": "execute_result",
          "data": {
            "text/html": [
              "<div>\n",
              "<style scoped>\n",
              "    .dataframe tbody tr th:only-of-type {\n",
              "        vertical-align: middle;\n",
              "    }\n",
              "\n",
              "    .dataframe tbody tr th {\n",
              "        vertical-align: top;\n",
              "    }\n",
              "\n",
              "    .dataframe thead th {\n",
              "        text-align: right;\n",
              "    }\n",
              "</style>\n",
              "<table border=\"1\" class=\"dataframe\">\n",
              "  <thead>\n",
              "    <tr style=\"text-align: right;\">\n",
              "      <th></th>\n",
              "      <th>title</th>\n",
              "      <th>text</th>\n",
              "      <th>subject</th>\n",
              "      <th>date</th>\n",
              "      <th>fakenews_</th>\n",
              "      <th>title_clean</th>\n",
              "      <th>text_clean</th>\n",
              "      <th>text_polarity</th>\n",
              "      <th>text_subjectivity</th>\n",
              "      <th>title_polarity</th>\n",
              "      <th>title_subjectivity</th>\n",
              "      <th>text_clean_polarity</th>\n",
              "      <th>text_clean_subjectivity</th>\n",
              "      <th>title_clean_polarity</th>\n",
              "      <th>title_clean_subjectivity</th>\n",
              "    </tr>\n",
              "  </thead>\n",
              "  <tbody>\n",
              "    <tr>\n",
              "      <th>0</th>\n",
              "      <td>As U.S. budget fight looms, Republicans flip t...</td>\n",
              "      <td>WASHINGTON (Reuters) - The head of a conservat...</td>\n",
              "      <td>politicsNews</td>\n",
              "      <td>December 31, 2017</td>\n",
              "      <td>0</td>\n",
              "      <td>us budget fight looms republicans flip fiscal ...</td>\n",
              "      <td>head conservative republican faction us congre...</td>\n",
              "      <td>0.037083</td>\n",
              "      <td>0.410250</td>\n",
              "      <td>0.00</td>\n",
              "      <td>0.0</td>\n",
              "      <td>0.036979</td>\n",
              "      <td>0.403438</td>\n",
              "      <td>0.0</td>\n",
              "      <td>0.00</td>\n",
              "    </tr>\n",
              "    <tr>\n",
              "      <th>1</th>\n",
              "      <td>U.S. military to accept transgender recruits o...</td>\n",
              "      <td>WASHINGTON (Reuters) - Transgender people will...</td>\n",
              "      <td>politicsNews</td>\n",
              "      <td>December 29, 2017</td>\n",
              "      <td>0</td>\n",
              "      <td>us military accept transgender recruits monday...</td>\n",
              "      <td>transgender people allowed first time enlist u...</td>\n",
              "      <td>0.055880</td>\n",
              "      <td>0.298557</td>\n",
              "      <td>-0.10</td>\n",
              "      <td>0.1</td>\n",
              "      <td>0.113095</td>\n",
              "      <td>0.296168</td>\n",
              "      <td>-0.1</td>\n",
              "      <td>0.10</td>\n",
              "    </tr>\n",
              "    <tr>\n",
              "      <th>2</th>\n",
              "      <td>Senior U.S. Republican senator: 'Let Mr. Muell...</td>\n",
              "      <td>WASHINGTON (Reuters) - The special counsel inv...</td>\n",
              "      <td>politicsNews</td>\n",
              "      <td>December 31, 2017</td>\n",
              "      <td>0</td>\n",
              "      <td>senior us republican senator let mr mueller job</td>\n",
              "      <td>special counsel investigation links russia pre...</td>\n",
              "      <td>0.115930</td>\n",
              "      <td>0.316798</td>\n",
              "      <td>0.00</td>\n",
              "      <td>0.0</td>\n",
              "      <td>0.129766</td>\n",
              "      <td>0.311252</td>\n",
              "      <td>0.0</td>\n",
              "      <td>0.00</td>\n",
              "    </tr>\n",
              "    <tr>\n",
              "      <th>3</th>\n",
              "      <td>FBI Russia probe helped by Australian diplomat...</td>\n",
              "      <td>WASHINGTON (Reuters) - Trump campaign adviser ...</td>\n",
              "      <td>politicsNews</td>\n",
              "      <td>December 30, 2017</td>\n",
              "      <td>0</td>\n",
              "      <td>fbi russia probe helped australian diplomat ti...</td>\n",
              "      <td>trump campaign adviser george papadopoulos tol...</td>\n",
              "      <td>0.035968</td>\n",
              "      <td>0.306569</td>\n",
              "      <td>0.00</td>\n",
              "      <td>0.0</td>\n",
              "      <td>0.030305</td>\n",
              "      <td>0.276323</td>\n",
              "      <td>0.0</td>\n",
              "      <td>0.00</td>\n",
              "    </tr>\n",
              "    <tr>\n",
              "      <th>4</th>\n",
              "      <td>Trump wants Postal Service to charge 'much mor...</td>\n",
              "      <td>SEATTLE/WASHINGTON (Reuters) - President Donal...</td>\n",
              "      <td>politicsNews</td>\n",
              "      <td>December 29, 2017</td>\n",
              "      <td>0</td>\n",
              "      <td>trump wants postal service charge much amazon ...</td>\n",
              "      <td>president donald trump called us postal servic...</td>\n",
              "      <td>0.030093</td>\n",
              "      <td>0.399891</td>\n",
              "      <td>0.35</td>\n",
              "      <td>0.3</td>\n",
              "      <td>0.042130</td>\n",
              "      <td>0.379259</td>\n",
              "      <td>0.2</td>\n",
              "      <td>0.15</td>\n",
              "    </tr>\n",
              "  </tbody>\n",
              "</table>\n",
              "</div>"
            ],
            "text/plain": [
              "                                               title  \\\n",
              "0  As U.S. budget fight looms, Republicans flip t...   \n",
              "1  U.S. military to accept transgender recruits o...   \n",
              "2  Senior U.S. Republican senator: 'Let Mr. Muell...   \n",
              "3  FBI Russia probe helped by Australian diplomat...   \n",
              "4  Trump wants Postal Service to charge 'much mor...   \n",
              "\n",
              "                                                text       subject  \\\n",
              "0  WASHINGTON (Reuters) - The head of a conservat...  politicsNews   \n",
              "1  WASHINGTON (Reuters) - Transgender people will...  politicsNews   \n",
              "2  WASHINGTON (Reuters) - The special counsel inv...  politicsNews   \n",
              "3  WASHINGTON (Reuters) - Trump campaign adviser ...  politicsNews   \n",
              "4  SEATTLE/WASHINGTON (Reuters) - President Donal...  politicsNews   \n",
              "\n",
              "                 date  fakenews_  \\\n",
              "0  December 31, 2017           0   \n",
              "1  December 29, 2017           0   \n",
              "2  December 31, 2017           0   \n",
              "3  December 30, 2017           0   \n",
              "4  December 29, 2017           0   \n",
              "\n",
              "                                         title_clean  \\\n",
              "0  us budget fight looms republicans flip fiscal ...   \n",
              "1  us military accept transgender recruits monday...   \n",
              "2    senior us republican senator let mr mueller job   \n",
              "3  fbi russia probe helped australian diplomat ti...   \n",
              "4  trump wants postal service charge much amazon ...   \n",
              "\n",
              "                                          text_clean  text_polarity  \\\n",
              "0  head conservative republican faction us congre...       0.037083   \n",
              "1  transgender people allowed first time enlist u...       0.055880   \n",
              "2  special counsel investigation links russia pre...       0.115930   \n",
              "3  trump campaign adviser george papadopoulos tol...       0.035968   \n",
              "4  president donald trump called us postal servic...       0.030093   \n",
              "\n",
              "   text_subjectivity  title_polarity  title_subjectivity  text_clean_polarity  \\\n",
              "0           0.410250            0.00                 0.0             0.036979   \n",
              "1           0.298557           -0.10                 0.1             0.113095   \n",
              "2           0.316798            0.00                 0.0             0.129766   \n",
              "3           0.306569            0.00                 0.0             0.030305   \n",
              "4           0.399891            0.35                 0.3             0.042130   \n",
              "\n",
              "   text_clean_subjectivity  title_clean_polarity  title_clean_subjectivity  \n",
              "0                 0.403438                   0.0                      0.00  \n",
              "1                 0.296168                  -0.1                      0.10  \n",
              "2                 0.311252                   0.0                      0.00  \n",
              "3                 0.276323                   0.0                      0.00  \n",
              "4                 0.379259                   0.2                      0.15  "
            ]
          },
          "metadata": {
            "tags": []
          },
          "execution_count": 19
        }
      ]
    },
    {
      "cell_type": "markdown",
      "metadata": {
        "id": "ectm8dRY3fk1",
        "colab_type": "text"
      },
      "source": [
        "Dividimos el dataset en train y test con shuffle y estratificación:"
      ]
    },
    {
      "cell_type": "code",
      "metadata": {
        "id": "F03PUTvf3fk3",
        "colab_type": "code",
        "outputId": "23a4502e-ad49-424a-bed1-752cdac5216b",
        "colab": {}
      },
      "source": [
        "data_train, data_test = train_test_split(news,test_size=0.30,shuffle=True,random_state=10, stratify=news[\"fakenews_\"])\n",
        "\n",
        "data_train = data_train.copy()\n",
        "data_test = data_test.copy() \n",
        "print(\"data train shape: {}\".format(data_train.shape))\n",
        "print(\"data test shape: {}\".format(data_test.shape))"
      ],
      "execution_count": 0,
      "outputs": [
        {
          "output_type": "stream",
          "text": [
            "data train shape: (31428, 15)\n",
            "data test shape: (13470, 15)\n"
          ],
          "name": "stdout"
        }
      ]
    },
    {
      "cell_type": "code",
      "metadata": {
        "id": "0n9AJ0-q3flA",
        "colab_type": "code",
        "colab": {}
      },
      "source": [
        "X_train=data_train[\"title_clean\"].apply(correr_stemming)\n",
        "X_test=data_test[\"title_clean\"].apply(correr_stemming)\n",
        "y_train=data_train[\"fakenews_\"].copy()\n",
        "y_test=data_test[\"fakenews_\"].copy()"
      ],
      "execution_count": 0,
      "outputs": []
    },
    {
      "cell_type": "markdown",
      "metadata": {
        "colab_type": "text",
        "id": "6SnleUXtb3Ug"
      },
      "source": [
        "# **4.   Feature Extraction**"
      ]
    },
    {
      "cell_type": "markdown",
      "metadata": {
        "id": "KxOiq3P83flT",
        "colab_type": "text"
      },
      "source": [
        "## CountVectorizer"
      ]
    },
    {
      "cell_type": "markdown",
      "metadata": {
        "id": "kjRnsmHv3flV",
        "colab_type": "text"
      },
      "source": [
        "A partir de una vectorizacion por TFIDF obtenemos 10.000 features principales:"
      ]
    },
    {
      "cell_type": "code",
      "metadata": {
        "id": "yuq-SbPZ3flW",
        "colab_type": "code",
        "outputId": "5c241a4c-adc0-430f-a706-83baa480a7df",
        "colab": {}
      },
      "source": [
        "cv=CountVectorizer(max_features=10000, stop_words='english')\n",
        "X_train_cv = cv.fit_transform(X_train)\n",
        "X_test_cv = cv.transform(X_test)\n",
        "\n",
        "X_train_cv1 = pd.DataFrame(X_test_cv.toarray(), columns = cv.get_feature_names())\n",
        "X_test_cv1 = pd.DataFrame(X_train_cv.toarray(), columns = cv.get_feature_names())\n",
        "X_train_cv1.shape, X_test_cv1.shape"
      ],
      "execution_count": 0,
      "outputs": [
        {
          "output_type": "execute_result",
          "data": {
            "text/plain": [
              "((13470, 10000), (31428, 10000))"
            ]
          },
          "metadata": {
            "tags": []
          },
          "execution_count": 25
        }
      ]
    },
    {
      "cell_type": "code",
      "metadata": {
        "id": "b4wjj-RV3flc",
        "colab_type": "code",
        "outputId": "36b57a07-ec4e-4cd9-a083-1edf9b4f4747",
        "colab": {}
      },
      "source": [
        "X_train_cv1.head(5)"
      ],
      "execution_count": 0,
      "outputs": [
        {
          "output_type": "execute_result",
          "data": {
            "text/html": [
              "<div>\n",
              "<style scoped>\n",
              "    .dataframe tbody tr th:only-of-type {\n",
              "        vertical-align: middle;\n",
              "    }\n",
              "\n",
              "    .dataframe tbody tr th {\n",
              "        vertical-align: top;\n",
              "    }\n",
              "\n",
              "    .dataframe thead th {\n",
              "        text-align: right;\n",
              "    }\n",
              "</style>\n",
              "<table border=\"1\" class=\"dataframe\">\n",
              "  <thead>\n",
              "    <tr style=\"text-align: right;\">\n",
              "      <th></th>\n",
              "      <th>aar</th>\n",
              "      <th>aaron</th>\n",
              "      <th>aarp</th>\n",
              "      <th>abadi</th>\n",
              "      <th>abandon</th>\n",
              "      <th>abba</th>\n",
              "      <th>abbott</th>\n",
              "      <th>abc</th>\n",
              "      <th>abcwashington</th>\n",
              "      <th>abdic</th>\n",
              "      <th>...</th>\n",
              "      <th>zoo</th>\n",
              "      <th>zooland</th>\n",
              "      <th>zucker</th>\n",
              "      <th>zuckerberg</th>\n",
              "      <th>zulia</th>\n",
              "      <th>zuma</th>\n",
              "      <th>zummar</th>\n",
              "      <th>zurich</th>\n",
              "      <th>état</th>\n",
              "      <th>žižek</th>\n",
              "    </tr>\n",
              "  </thead>\n",
              "  <tbody>\n",
              "    <tr>\n",
              "      <th>0</th>\n",
              "      <td>0</td>\n",
              "      <td>0</td>\n",
              "      <td>0</td>\n",
              "      <td>0</td>\n",
              "      <td>0</td>\n",
              "      <td>0</td>\n",
              "      <td>0</td>\n",
              "      <td>0</td>\n",
              "      <td>0</td>\n",
              "      <td>0</td>\n",
              "      <td>...</td>\n",
              "      <td>0</td>\n",
              "      <td>0</td>\n",
              "      <td>0</td>\n",
              "      <td>0</td>\n",
              "      <td>0</td>\n",
              "      <td>0</td>\n",
              "      <td>0</td>\n",
              "      <td>0</td>\n",
              "      <td>0</td>\n",
              "      <td>0</td>\n",
              "    </tr>\n",
              "    <tr>\n",
              "      <th>1</th>\n",
              "      <td>0</td>\n",
              "      <td>0</td>\n",
              "      <td>0</td>\n",
              "      <td>0</td>\n",
              "      <td>0</td>\n",
              "      <td>0</td>\n",
              "      <td>0</td>\n",
              "      <td>0</td>\n",
              "      <td>0</td>\n",
              "      <td>0</td>\n",
              "      <td>...</td>\n",
              "      <td>0</td>\n",
              "      <td>0</td>\n",
              "      <td>0</td>\n",
              "      <td>0</td>\n",
              "      <td>0</td>\n",
              "      <td>0</td>\n",
              "      <td>0</td>\n",
              "      <td>0</td>\n",
              "      <td>0</td>\n",
              "      <td>0</td>\n",
              "    </tr>\n",
              "    <tr>\n",
              "      <th>2</th>\n",
              "      <td>0</td>\n",
              "      <td>0</td>\n",
              "      <td>0</td>\n",
              "      <td>0</td>\n",
              "      <td>0</td>\n",
              "      <td>0</td>\n",
              "      <td>0</td>\n",
              "      <td>0</td>\n",
              "      <td>0</td>\n",
              "      <td>0</td>\n",
              "      <td>...</td>\n",
              "      <td>0</td>\n",
              "      <td>0</td>\n",
              "      <td>0</td>\n",
              "      <td>0</td>\n",
              "      <td>0</td>\n",
              "      <td>0</td>\n",
              "      <td>0</td>\n",
              "      <td>0</td>\n",
              "      <td>0</td>\n",
              "      <td>0</td>\n",
              "    </tr>\n",
              "    <tr>\n",
              "      <th>3</th>\n",
              "      <td>0</td>\n",
              "      <td>0</td>\n",
              "      <td>0</td>\n",
              "      <td>0</td>\n",
              "      <td>0</td>\n",
              "      <td>0</td>\n",
              "      <td>0</td>\n",
              "      <td>0</td>\n",
              "      <td>0</td>\n",
              "      <td>0</td>\n",
              "      <td>...</td>\n",
              "      <td>0</td>\n",
              "      <td>0</td>\n",
              "      <td>0</td>\n",
              "      <td>0</td>\n",
              "      <td>0</td>\n",
              "      <td>0</td>\n",
              "      <td>0</td>\n",
              "      <td>0</td>\n",
              "      <td>0</td>\n",
              "      <td>0</td>\n",
              "    </tr>\n",
              "    <tr>\n",
              "      <th>4</th>\n",
              "      <td>0</td>\n",
              "      <td>0</td>\n",
              "      <td>0</td>\n",
              "      <td>0</td>\n",
              "      <td>0</td>\n",
              "      <td>0</td>\n",
              "      <td>0</td>\n",
              "      <td>0</td>\n",
              "      <td>0</td>\n",
              "      <td>0</td>\n",
              "      <td>...</td>\n",
              "      <td>0</td>\n",
              "      <td>0</td>\n",
              "      <td>0</td>\n",
              "      <td>0</td>\n",
              "      <td>0</td>\n",
              "      <td>0</td>\n",
              "      <td>0</td>\n",
              "      <td>0</td>\n",
              "      <td>0</td>\n",
              "      <td>0</td>\n",
              "    </tr>\n",
              "  </tbody>\n",
              "</table>\n",
              "<p>5 rows × 10000 columns</p>\n",
              "</div>"
            ],
            "text/plain": [
              "   aar  aaron  aarp  abadi  abandon  abba  abbott  abc  abcwashington  abdic  \\\n",
              "0    0      0     0      0        0     0       0    0              0      0   \n",
              "1    0      0     0      0        0     0       0    0              0      0   \n",
              "2    0      0     0      0        0     0       0    0              0      0   \n",
              "3    0      0     0      0        0     0       0    0              0      0   \n",
              "4    0      0     0      0        0     0       0    0              0      0   \n",
              "\n",
              "   ...  zoo  zooland  zucker  zuckerberg  zulia  zuma  zummar  zurich  état  \\\n",
              "0  ...    0        0       0           0      0     0       0       0     0   \n",
              "1  ...    0        0       0           0      0     0       0       0     0   \n",
              "2  ...    0        0       0           0      0     0       0       0     0   \n",
              "3  ...    0        0       0           0      0     0       0       0     0   \n",
              "4  ...    0        0       0           0      0     0       0       0     0   \n",
              "\n",
              "   žižek  \n",
              "0      0  \n",
              "1      0  \n",
              "2      0  \n",
              "3      0  \n",
              "4      0  \n",
              "\n",
              "[5 rows x 10000 columns]"
            ]
          },
          "metadata": {
            "tags": []
          },
          "execution_count": 26
        }
      ]
    },
    {
      "cell_type": "markdown",
      "metadata": {
        "id": "15Q90EF-3fli",
        "colab_type": "text"
      },
      "source": [
        "## TFIDF"
      ]
    },
    {
      "cell_type": "markdown",
      "metadata": {
        "id": "IbKoFer_3flj",
        "colab_type": "text"
      },
      "source": [
        "A partir de una vectorizacion por TFIDF obtenemos 10.000 features principales:"
      ]
    },
    {
      "cell_type": "code",
      "metadata": {
        "colab_type": "code",
        "id": "5QIu67y65POf",
        "outputId": "5696f5bb-5c0d-4c34-8ce5-dc9cd081399b",
        "colab": {}
      },
      "source": [
        "tfidf=TfidfVectorizer(max_features=10000, stop_words='english')\n",
        "X_train_tfidf = tfidf.fit_transform(X_train)\n",
        "X_test_tfidf = tfidf.transform(X_test)\n",
        "\n",
        "X_train_tfidf1 = pd.DataFrame(X_test_tfidf.toarray(), columns = tfidf.get_feature_names())\n",
        "X_test_tfidf1 = pd.DataFrame(X_train_tfidf.toarray(), columns = tfidf.get_feature_names())\n",
        "X_train_tfidf1.shape, X_test_tfidf1.shape"
      ],
      "execution_count": 0,
      "outputs": [
        {
          "output_type": "execute_result",
          "data": {
            "text/plain": [
              "((13470, 10000), (31428, 10000))"
            ]
          },
          "metadata": {
            "tags": []
          },
          "execution_count": 27
        }
      ]
    },
    {
      "cell_type": "code",
      "metadata": {
        "id": "fSpQSsUr3flq",
        "colab_type": "code",
        "outputId": "e0ee3f93-2d1d-43a0-e762-dba1b3b58ac4",
        "colab": {}
      },
      "source": [
        "X_test_tfidf1.head(5)"
      ],
      "execution_count": 0,
      "outputs": [
        {
          "output_type": "execute_result",
          "data": {
            "text/html": [
              "<div>\n",
              "<style scoped>\n",
              "    .dataframe tbody tr th:only-of-type {\n",
              "        vertical-align: middle;\n",
              "    }\n",
              "\n",
              "    .dataframe tbody tr th {\n",
              "        vertical-align: top;\n",
              "    }\n",
              "\n",
              "    .dataframe thead th {\n",
              "        text-align: right;\n",
              "    }\n",
              "</style>\n",
              "<table border=\"1\" class=\"dataframe\">\n",
              "  <thead>\n",
              "    <tr style=\"text-align: right;\">\n",
              "      <th></th>\n",
              "      <th>aar</th>\n",
              "      <th>aaron</th>\n",
              "      <th>aarp</th>\n",
              "      <th>abadi</th>\n",
              "      <th>abandon</th>\n",
              "      <th>abba</th>\n",
              "      <th>abbott</th>\n",
              "      <th>abc</th>\n",
              "      <th>abcwashington</th>\n",
              "      <th>abdic</th>\n",
              "      <th>...</th>\n",
              "      <th>zoo</th>\n",
              "      <th>zooland</th>\n",
              "      <th>zucker</th>\n",
              "      <th>zuckerberg</th>\n",
              "      <th>zulia</th>\n",
              "      <th>zuma</th>\n",
              "      <th>zummar</th>\n",
              "      <th>zurich</th>\n",
              "      <th>état</th>\n",
              "      <th>žižek</th>\n",
              "    </tr>\n",
              "  </thead>\n",
              "  <tbody>\n",
              "    <tr>\n",
              "      <th>0</th>\n",
              "      <td>0.0</td>\n",
              "      <td>0.0</td>\n",
              "      <td>0.0</td>\n",
              "      <td>0.0</td>\n",
              "      <td>0.0</td>\n",
              "      <td>0.0</td>\n",
              "      <td>0.0</td>\n",
              "      <td>0.0</td>\n",
              "      <td>0.0</td>\n",
              "      <td>0.0</td>\n",
              "      <td>...</td>\n",
              "      <td>0.0</td>\n",
              "      <td>0.0</td>\n",
              "      <td>0.0</td>\n",
              "      <td>0.0</td>\n",
              "      <td>0.0</td>\n",
              "      <td>0.0</td>\n",
              "      <td>0.0</td>\n",
              "      <td>0.0</td>\n",
              "      <td>0.0</td>\n",
              "      <td>0.0</td>\n",
              "    </tr>\n",
              "    <tr>\n",
              "      <th>1</th>\n",
              "      <td>0.0</td>\n",
              "      <td>0.0</td>\n",
              "      <td>0.0</td>\n",
              "      <td>0.0</td>\n",
              "      <td>0.0</td>\n",
              "      <td>0.0</td>\n",
              "      <td>0.0</td>\n",
              "      <td>0.0</td>\n",
              "      <td>0.0</td>\n",
              "      <td>0.0</td>\n",
              "      <td>...</td>\n",
              "      <td>0.0</td>\n",
              "      <td>0.0</td>\n",
              "      <td>0.0</td>\n",
              "      <td>0.0</td>\n",
              "      <td>0.0</td>\n",
              "      <td>0.0</td>\n",
              "      <td>0.0</td>\n",
              "      <td>0.0</td>\n",
              "      <td>0.0</td>\n",
              "      <td>0.0</td>\n",
              "    </tr>\n",
              "    <tr>\n",
              "      <th>2</th>\n",
              "      <td>0.0</td>\n",
              "      <td>0.0</td>\n",
              "      <td>0.0</td>\n",
              "      <td>0.0</td>\n",
              "      <td>0.0</td>\n",
              "      <td>0.0</td>\n",
              "      <td>0.0</td>\n",
              "      <td>0.0</td>\n",
              "      <td>0.0</td>\n",
              "      <td>0.0</td>\n",
              "      <td>...</td>\n",
              "      <td>0.0</td>\n",
              "      <td>0.0</td>\n",
              "      <td>0.0</td>\n",
              "      <td>0.0</td>\n",
              "      <td>0.0</td>\n",
              "      <td>0.0</td>\n",
              "      <td>0.0</td>\n",
              "      <td>0.0</td>\n",
              "      <td>0.0</td>\n",
              "      <td>0.0</td>\n",
              "    </tr>\n",
              "    <tr>\n",
              "      <th>3</th>\n",
              "      <td>0.0</td>\n",
              "      <td>0.0</td>\n",
              "      <td>0.0</td>\n",
              "      <td>0.0</td>\n",
              "      <td>0.0</td>\n",
              "      <td>0.0</td>\n",
              "      <td>0.0</td>\n",
              "      <td>0.0</td>\n",
              "      <td>0.0</td>\n",
              "      <td>0.0</td>\n",
              "      <td>...</td>\n",
              "      <td>0.0</td>\n",
              "      <td>0.0</td>\n",
              "      <td>0.0</td>\n",
              "      <td>0.0</td>\n",
              "      <td>0.0</td>\n",
              "      <td>0.0</td>\n",
              "      <td>0.0</td>\n",
              "      <td>0.0</td>\n",
              "      <td>0.0</td>\n",
              "      <td>0.0</td>\n",
              "    </tr>\n",
              "    <tr>\n",
              "      <th>4</th>\n",
              "      <td>0.0</td>\n",
              "      <td>0.0</td>\n",
              "      <td>0.0</td>\n",
              "      <td>0.0</td>\n",
              "      <td>0.0</td>\n",
              "      <td>0.0</td>\n",
              "      <td>0.0</td>\n",
              "      <td>0.0</td>\n",
              "      <td>0.0</td>\n",
              "      <td>0.0</td>\n",
              "      <td>...</td>\n",
              "      <td>0.0</td>\n",
              "      <td>0.0</td>\n",
              "      <td>0.0</td>\n",
              "      <td>0.0</td>\n",
              "      <td>0.0</td>\n",
              "      <td>0.0</td>\n",
              "      <td>0.0</td>\n",
              "      <td>0.0</td>\n",
              "      <td>0.0</td>\n",
              "      <td>0.0</td>\n",
              "    </tr>\n",
              "  </tbody>\n",
              "</table>\n",
              "<p>5 rows × 10000 columns</p>\n",
              "</div>"
            ],
            "text/plain": [
              "   aar  aaron  aarp  abadi  abandon  abba  abbott  abc  abcwashington  abdic  \\\n",
              "0  0.0    0.0   0.0    0.0      0.0   0.0     0.0  0.0            0.0    0.0   \n",
              "1  0.0    0.0   0.0    0.0      0.0   0.0     0.0  0.0            0.0    0.0   \n",
              "2  0.0    0.0   0.0    0.0      0.0   0.0     0.0  0.0            0.0    0.0   \n",
              "3  0.0    0.0   0.0    0.0      0.0   0.0     0.0  0.0            0.0    0.0   \n",
              "4  0.0    0.0   0.0    0.0      0.0   0.0     0.0  0.0            0.0    0.0   \n",
              "\n",
              "   ...  zoo  zooland  zucker  zuckerberg  zulia  zuma  zummar  zurich  état  \\\n",
              "0  ...  0.0      0.0     0.0         0.0    0.0   0.0     0.0     0.0   0.0   \n",
              "1  ...  0.0      0.0     0.0         0.0    0.0   0.0     0.0     0.0   0.0   \n",
              "2  ...  0.0      0.0     0.0         0.0    0.0   0.0     0.0     0.0   0.0   \n",
              "3  ...  0.0      0.0     0.0         0.0    0.0   0.0     0.0     0.0   0.0   \n",
              "4  ...  0.0      0.0     0.0         0.0    0.0   0.0     0.0     0.0   0.0   \n",
              "\n",
              "   žižek  \n",
              "0    0.0  \n",
              "1    0.0  \n",
              "2    0.0  \n",
              "3    0.0  \n",
              "4    0.0  \n",
              "\n",
              "[5 rows x 10000 columns]"
            ]
          },
          "metadata": {
            "tags": []
          },
          "execution_count": 28
        }
      ]
    },
    {
      "cell_type": "markdown",
      "metadata": {
        "id": "t42KtQGf3flv",
        "colab_type": "text"
      },
      "source": [
        "# **5.   Modelado Inicial**"
      ]
    },
    {
      "cell_type": "markdown",
      "metadata": {
        "id": "Zc3V-6oi3flw",
        "colab_type": "text"
      },
      "source": [
        "## Modelo Naive Bayes"
      ]
    },
    {
      "cell_type": "markdown",
      "metadata": {
        "id": "7AFA45VG3flx",
        "colab_type": "text"
      },
      "source": [
        "Instanciamos un modelo Naive Bayes a partir de la matriz de features generada"
      ]
    },
    {
      "cell_type": "markdown",
      "metadata": {
        "id": "4cZocRhP3fly",
        "colab_type": "text"
      },
      "source": [
        "Con vectorización por Count Vectorizer:"
      ]
    },
    {
      "cell_type": "code",
      "metadata": {
        "id": "QD1SIC4f3flz",
        "colab_type": "code",
        "outputId": "0636633d-4766-495e-df8e-d272ab23d7db",
        "colab": {}
      },
      "source": [
        "mnb_cv=MultinomialNB()\n",
        "mnb_cv.fit(X_train_cv, y_train)\n",
        "y_pred_cv=mnb_cv.predict(X_test_cv)\n",
        "\n",
        "y_pred_cv"
      ],
      "execution_count": 0,
      "outputs": [
        {
          "output_type": "execute_result",
          "data": {
            "text/plain": [
              "array([0, 1, 1, ..., 1, 0, 1], dtype=int64)"
            ]
          },
          "metadata": {
            "tags": []
          },
          "execution_count": 29
        }
      ]
    },
    {
      "cell_type": "markdown",
      "metadata": {
        "id": "65rA1oUk3fl6",
        "colab_type": "text"
      },
      "source": [
        "Con vectorización por TFIDF:"
      ]
    },
    {
      "cell_type": "code",
      "metadata": {
        "colab_type": "code",
        "id": "IeuGUi585PPO",
        "outputId": "1457f661-87be-4f3f-ab59-234abdfa5965",
        "colab": {}
      },
      "source": [
        "mnb_tfidf=MultinomialNB()\n",
        "mnb_tfidf.fit(X_train_tfidf, y_train)\n",
        "y_pred_tfidf=mnb_tfidf.predict(X_test_cv)\n",
        "\n",
        "y_pred_tfidf"
      ],
      "execution_count": 0,
      "outputs": [
        {
          "output_type": "execute_result",
          "data": {
            "text/plain": [
              "array([0, 1, 1, ..., 1, 0, 1], dtype=int64)"
            ]
          },
          "metadata": {
            "tags": []
          },
          "execution_count": 30
        }
      ]
    },
    {
      "cell_type": "markdown",
      "metadata": {
        "id": "rhMv7YbE3fl-",
        "colab_type": "text"
      },
      "source": [
        "Hacemos un print inicial de comparativa entre las predicciones con cada vectorizacion:"
      ]
    },
    {
      "cell_type": "code",
      "metadata": {
        "colab_type": "code",
        "id": "6nFeK5wj5PPe",
        "outputId": "f321cfc3-02d3-482e-dae0-0f904f118bb5",
        "scrolled": true,
        "colab": {}
      },
      "source": [
        "from sklearn import metrics\n",
        "\n",
        "print('confusion matrix CV: \\n', metrics.confusion_matrix(y_test, y_pred_cv))\n",
        "print('accuracy score  : ', metrics.accuracy_score(y_test, y_pred_cv))\n",
        "print('/n')\n",
        "print('confusion matrix TFIDF: \\n', metrics.confusion_matrix(y_test, y_pred_tfidf))\n",
        "print('accuracy score  : ', metrics.accuracy_score(y_test, y_pred_tfidf))"
      ],
      "execution_count": 0,
      "outputs": [
        {
          "output_type": "stream",
          "text": [
            "confusion matrix CV: \n",
            " [[5920  505]\n",
            " [ 438 6607]]\n",
            "accuracy score  :  0.929992576095026\n",
            "/n\n",
            "confusion matrix TFIDF: \n",
            " [[5898  527]\n",
            " [ 438 6607]]\n",
            "accuracy score  :  0.9283593170007424\n"
          ],
          "name": "stdout"
        }
      ]
    },
    {
      "cell_type": "markdown",
      "metadata": {
        "id": "t_c4cseo3fmC",
        "colab_type": "text"
      },
      "source": [
        "Matriz de confusion con vectorizacion por CountVectorizer:"
      ]
    },
    {
      "cell_type": "code",
      "metadata": {
        "id": "5SsZrXIO3fmC",
        "colab_type": "code",
        "outputId": "26801eb0-5171-4f2c-81e8-c72456c859d4",
        "colab": {}
      },
      "source": [
        "from sklearn.utils.multiclass import unique_labels\n",
        "from sklearn.metrics import confusion_matrix\n",
        "plt.figure(figsize=(10, 10))\n",
        "classes = unique_labels(y_test, y_pred_cv)\n",
        "plt.title(\"confusion matrix CV\")\n",
        "\n",
        "mat = confusion_matrix(y_test, y_pred_cv)\n",
        "ax=sns.heatmap(mat, square=True, annot=True, fmt='d', cbar=False)\n",
        "sns.set(font_scale=2) \n",
        "\n",
        "plt.xlabel('Etiquetas predichas')\n",
        "plt.ylabel('Etiquetas verdaderas')\n",
        "ax.set_xticklabels(classes,rotation=90)\n",
        "ax.set_yticklabels(classes,rotation=0);\n",
        "\n",
        "plt.savefig('Matriz Confusion Naive-Bayes CV.jpg', dpi=300)"
      ],
      "execution_count": 0,
      "outputs": [
        {
          "output_type": "display_data",
          "data": {
            "image/png": "[encoded data removed]",
            "text/plain": [
              "<Figure size 720x720 with 1 Axes>"
            ]
          },
          "metadata": {
            "tags": [],
            "needs_background": "light"
          }
        }
      ]
    },
    {
      "cell_type": "markdown",
      "metadata": {
        "id": "h1l74Cix3fmF",
        "colab_type": "text"
      },
      "source": [
        "Matriz de confusion con vectorizacion por TFIDF:"
      ]
    },
    {
      "cell_type": "code",
      "metadata": {
        "id": "sZ3xgFZ23fmG",
        "colab_type": "code",
        "outputId": "08c146bf-4d4d-415c-d4d4-c1e4e46dd6d4",
        "colab": {}
      },
      "source": [
        "plt.figure(figsize=(10, 10))\n",
        "classes = unique_labels(y_test, y_pred_tfidf)\n",
        "plt.title(\"confusion matrix TFIDF\")\n",
        "\n",
        "mat = confusion_matrix(y_test, y_pred_tfidf)\n",
        "ax=sns.heatmap(mat, square=True, annot=True, fmt='d', cbar=False)\n",
        "sns.set(font_scale=2) \n",
        "\n",
        "plt.xlabel('Etiquetas predichas')\n",
        "plt.ylabel('Etiquetas verdaderas')\n",
        "ax.set_xticklabels(classes,rotation=90)\n",
        "ax.set_yticklabels(classes,rotation=0);\n",
        "\n",
        "plt.savefig('Matriz Confusion Naive-Bayes TFIDF.jpg', dpi=300)"
      ],
      "execution_count": 0,
      "outputs": [
        {
          "output_type": "display_data",
          "data": {
            "image/png": "[encoded data removed]",
            "text/plain": [
              "<Figure size 720x720 with 1 Axes>"
            ]
          },
          "metadata": {
            "tags": []
          }
        }
      ]
    },
    {
      "cell_type": "markdown",
      "metadata": {
        "colab_type": "text",
        "id": "7r76eNAR5PSZ"
      },
      "source": [
        "# Clasificador de Árboles de decisión"
      ]
    },
    {
      "cell_type": "code",
      "metadata": {
        "colab_type": "code",
        "id": "p3VWohM95PSa",
        "colab": {}
      },
      "source": [
        "from sklearn.tree import DecisionTreeClassifier\n",
        "from IPython.display import Image\n",
        "from sklearn.tree import export_graphviz\n",
        "import pydotplus\n",
        "from sklearn.pipeline import Pipeline\n",
        "from sklearn.feature_selection import SelectPercentile, f_classif, chi2\n",
        "from sklearn.model_selection import RandomizedSearchCV\n",
        "from sklearn.metrics import accuracy_score"
      ],
      "execution_count": 0,
      "outputs": []
    },
    {
      "cell_type": "markdown",
      "metadata": {
        "id": "yydBJGEm3fmM",
        "colab_type": "text"
      },
      "source": [
        "Configuramos pipelines para optimizar la estructura de los arboles de clasificacion:"
      ]
    },
    {
      "cell_type": "code",
      "metadata": {
        "id": "Md2Uayoo3fmM",
        "colab_type": "code",
        "colab": {}
      },
      "source": [
        "pipeline1 = Pipeline([\n",
        "   ('vect', CountVectorizer()), \n",
        "    ('ftr', SelectPercentile()),\n",
        "    ('tclf', DecisionTreeClassifier()), \n",
        "])\n",
        "\n",
        "\n",
        "pipeline2 = Pipeline([ \n",
        "   ('vect', TfidfVectorizer()), \n",
        "   ('ftr', SelectPercentile()),\n",
        "   ('tclf', DecisionTreeClassifier()),\n",
        "])"
      ],
      "execution_count": 0,
      "outputs": []
    },
    {
      "cell_type": "code",
      "metadata": {
        "id": "PuZ99i0H3fmQ",
        "colab_type": "code",
        "colab": {}
      },
      "source": [
        "parameters = {\n",
        "    'vect__max_features': [6000, 8000, 12000],\n",
        "    'vect__stop_words': ['english'],\n",
        "    'vect__binary': [True,False],\n",
        "    'vect__min_df': [0.005, 0.01, 0.03],\n",
        "    'vect__max_df': [0.5, 0.6, 0.7],\n",
        "    'ftr__percentile':[20, 30, 40, 50],\n",
        "    'ftr__score_func':[f_classif, chi2],\n",
        "    'tclf__max_depth': [5,10,15,20,25,30],\n",
        "    'tclf__max_leaf_nodes':[30, 60, 100],\n",
        "    'tclf__min_samples_split':[3,5,10,20],\n",
        "}"
      ],
      "execution_count": 0,
      "outputs": []
    },
    {
      "cell_type": "markdown",
      "metadata": {
        "id": "GmgGqkqI3fmT",
        "colab_type": "text"
      },
      "source": [
        "Ejecutamos dos busquedas aleatorias (la primera usando el CountVectorizer y la segunda usando TFIDF) iterando sobre los diferentes parametros definidos en la grilla anterior:"
      ]
    },
    {
      "cell_type": "code",
      "metadata": {
        "id": "Tfa_LcxP3fmU",
        "colab_type": "code",
        "colab": {}
      },
      "source": [
        "random_search1 = RandomizedSearchCV (pipeline1, parameters,n_iter=10, n_jobs = -1 , verbose = 2 , cv=3)\n",
        "random_search2 = RandomizedSearchCV (pipeline2, parameters,n_iter=10, n_jobs = -1 , verbose = 2 , cv=3)"
      ],
      "execution_count": 0,
      "outputs": []
    },
    {
      "cell_type": "markdown",
      "metadata": {
        "id": "5tkpSDTP3fmW",
        "colab_type": "text"
      },
      "source": [
        "En la siguientes celdas se muestran los resultados con vectorizacion por CountVectorizer:"
      ]
    },
    {
      "cell_type": "code",
      "metadata": {
        "id": "MqRq0udI3fmX",
        "colab_type": "code",
        "outputId": "bea4107e-9910-4fb3-ccb0-d3acbc68172f",
        "colab": {}
      },
      "source": [
        "print(\"Performing Randomized Search 1...\") \n",
        "random_search1.fit(X_train, y_train)\n",
        "\n",
        "print(\"Best score: %0.3f\" % random_search1.best_score_) \n",
        "print(\"Best parameters set:\" )\n",
        "best_parameters_rs1 = random_search1.best_estimator_.get_params()\n",
        "for param_name in sorted (parameters . keys()): \n",
        "                    print(\"\\t %s: %r\" % (param_name, best_parameters_rs1[param_name])) "
      ],
      "execution_count": 0,
      "outputs": [
        {
          "output_type": "stream",
          "text": [
            "Performing Randomized Search 1...\n",
            "Fitting 3 folds for each of 10 candidates, totalling 30 fits\n"
          ],
          "name": "stdout"
        },
        {
          "output_type": "stream",
          "text": [
            "[Parallel(n_jobs=-1)]: Using backend LokyBackend with 8 concurrent workers.\n",
            "[Parallel(n_jobs=-1)]: Done  30 out of  30 | elapsed:    6.3s finished\n"
          ],
          "name": "stderr"
        },
        {
          "output_type": "stream",
          "text": [
            "Best score: 0.830\n",
            "Best parameters set:\n",
            "\t ftr__percentile: 40\n",
            "\t ftr__score_func: <function chi2 at 0x000001BC864578B8>\n",
            "\t tclf__max_depth: 30\n",
            "\t tclf__max_leaf_nodes: 100\n",
            "\t tclf__min_samples_split: 5\n",
            "\t vect__binary: False\n",
            "\t vect__max_df: 0.6\n",
            "\t vect__max_features: 12000\n",
            "\t vect__min_df: 0.005\n",
            "\t vect__stop_words: 'english'\n"
          ],
          "name": "stdout"
        }
      ]
    },
    {
      "cell_type": "code",
      "metadata": {
        "id": "rESY5-To3fma",
        "colab_type": "code",
        "outputId": "314bf037-e2ab-4ce7-c8bd-d5dc5b1117a1",
        "colab": {}
      },
      "source": [
        "random_search1.best_estimator_.fit(X_train,y_train)\n",
        "y_pred_rs1=random_search1.best_estimator_.predict(X_test)\n",
        "\n",
        "print(\"Accuracy sobre Test Random Search 1: {}\".format(accuracy_score(y_test, y_pred_rs1)))"
      ],
      "execution_count": 0,
      "outputs": [
        {
          "output_type": "stream",
          "text": [
            "Accuracy sobre Test Random Search 1: 0.8278396436525612\n"
          ],
          "name": "stdout"
        }
      ]
    },
    {
      "cell_type": "code",
      "metadata": {
        "id": "Gv6ydCZ23fmc",
        "colab_type": "code",
        "outputId": "78332b78-faa3-4695-fc4c-c990aef0a7ff",
        "colab": {}
      },
      "source": [
        "plt.figure(figsize=(10, 10))\n",
        "classes = unique_labels(y_test, y_pred_rs1)\n",
        "plt.title(\"confusion matrix Arboles RS1 (CountVectorizer)\")\n",
        "\n",
        "mat = confusion_matrix(y_test, y_pred_rs1)\n",
        "ax=sns.heatmap(mat, square=True, annot=True, fmt='d', cbar=False)\n",
        "sns.set(font_scale=2) \n",
        "\n",
        "plt.xlabel('Etiquetas predichas')\n",
        "plt.ylabel('Etiquetas verdaderas')\n",
        "ax.set_xticklabels(classes,rotation=90)\n",
        "ax.set_yticklabels(classes,rotation=0);\n",
        "\n",
        "plt.savefig('Matriz Confusion Arboles RS1.jpg', dpi=300)"
      ],
      "execution_count": 0,
      "outputs": [
        {
          "output_type": "display_data",
          "data": {
            "image/png": "[encoded data removed]",
            "text/plain": [
              "<Figure size 720x720 with 1 Axes>"
            ]
          },
          "metadata": {
            "tags": []
          }
        }
      ]
    },
    {
      "cell_type": "markdown",
      "metadata": {
        "id": "2gpicFac3fmf",
        "colab_type": "text"
      },
      "source": [
        "En las siguientes celdas se muestran los resultados con vectorizacion por TFIDF:"
      ]
    },
    {
      "cell_type": "code",
      "metadata": {
        "id": "1uFxNdRF3fmf",
        "colab_type": "code",
        "outputId": "61b4edc0-a872-4265-adb3-08f7a147b82a",
        "colab": {}
      },
      "source": [
        "print(\"Performing Randomized Search 2...\") \n",
        "random_search2.fit(X_train, y_train)\n",
        "\n",
        "print(\"Best score: %0.3f\" % random_search2.best_score_) \n",
        "print(\"Best parameters set:\" )\n",
        "best_parameters_rs2 = random_search2.best_estimator_.get_params()\n",
        "for param_name in sorted (parameters . keys()): \n",
        "                    print(\"\\t %s: %r\" % (param_name, best_parameters_rs2[param_name])) "
      ],
      "execution_count": 0,
      "outputs": [
        {
          "output_type": "stream",
          "text": [
            "Performing Randomized Search 2...\n",
            "Fitting 3 folds for each of 10 candidates, totalling 30 fits\n"
          ],
          "name": "stdout"
        },
        {
          "output_type": "stream",
          "text": [
            "[Parallel(n_jobs=-1)]: Using backend LokyBackend with 8 concurrent workers.\n",
            "[Parallel(n_jobs=-1)]: Done  30 out of  30 | elapsed:    3.5s finished\n"
          ],
          "name": "stderr"
        },
        {
          "output_type": "stream",
          "text": [
            "Best score: 0.825\n",
            "Best parameters set:\n",
            "\t ftr__percentile: 30\n",
            "\t ftr__score_func: <function chi2 at 0x000001BC864578B8>\n",
            "\t tclf__max_depth: 25\n",
            "\t tclf__max_leaf_nodes: 60\n",
            "\t tclf__min_samples_split: 20\n",
            "\t vect__binary: True\n",
            "\t vect__max_df: 0.6\n",
            "\t vect__max_features: 12000\n",
            "\t vect__min_df: 0.005\n",
            "\t vect__stop_words: 'english'\n"
          ],
          "name": "stdout"
        }
      ]
    },
    {
      "cell_type": "code",
      "metadata": {
        "id": "esYvTokQ3fmi",
        "colab_type": "code",
        "outputId": "295d4528-0d1d-407d-c5b1-858de1435378",
        "colab": {}
      },
      "source": [
        "random_search2.best_estimator_.fit(X_train,y_train)\n",
        "y_pred_rs2=random_search2.best_estimator_.predict(X_test)\n",
        "\n",
        "print(\"Accuracy sobre Test Random Search 2: {}\".format(accuracy_score(y_test, y_pred_rs2)))"
      ],
      "execution_count": 0,
      "outputs": [
        {
          "output_type": "stream",
          "text": [
            "Accuracy sobre Test Random Search 2: 0.825909428359317\n"
          ],
          "name": "stdout"
        }
      ]
    },
    {
      "cell_type": "code",
      "metadata": {
        "id": "9PhHazbu3fml",
        "colab_type": "code",
        "outputId": "e420fb8b-042b-4525-d0c5-4788a1d0acc2",
        "colab": {}
      },
      "source": [
        "plt.figure(figsize=(10, 10))\n",
        "classes = unique_labels(y_test, y_pred_rs2)\n",
        "plt.title(\"confusion matrix Arboles RS2\")\n",
        "\n",
        "mat = confusion_matrix(y_test, y_pred_rs2)\n",
        "ax=sns.heatmap(mat, square=True, annot=True, fmt='d', cbar=False)\n",
        "sns.set(font_scale=2) \n",
        "\n",
        "plt.xlabel('Etiquetas predichas')\n",
        "plt.ylabel('Etiquetas verdaderas')\n",
        "ax.set_xticklabels(classes,rotation=90)\n",
        "ax.set_yticklabels(classes,rotation=0);\n",
        "\n",
        "plt.savefig('Matriz Confusion Arboles RS2 (TFIDF).jpg', dpi=300)"
      ],
      "execution_count": 0,
      "outputs": [
        {
          "output_type": "display_data",
          "data": {
            "image/png": "[encoded data removed]",
            "text/plain": [
              "<Figure size 720x720 with 1 Axes>"
            ]
          },
          "metadata": {
            "tags": []
          }
        }
      ]
    },
    {
      "cell_type": "markdown",
      "metadata": {
        "colab_type": "text",
        "id": "TkUOk9Sf5PSv"
      },
      "source": [
        "# XGBOOST"
      ]
    },
    {
      "cell_type": "markdown",
      "metadata": {
        "id": "gjpINYy23fmo",
        "colab_type": "text"
      },
      "source": [
        "Realizamos una prueba adicional con un modelo simple (sin gridsearch) por medio de XGBOOST:"
      ]
    },
    {
      "cell_type": "code",
      "metadata": {
        "colab_type": "code",
        "id": "tY1WigEE5PSw",
        "colab": {}
      },
      "source": [
        "from xgboost import XGBClassifier"
      ],
      "execution_count": 0,
      "outputs": []
    },
    {
      "cell_type": "code",
      "metadata": {
        "colab_type": "code",
        "id": "jR4S4G1O5PS0",
        "outputId": "1bc07287-3227-46c3-f1bc-2bb639585c3e",
        "colab": {}
      },
      "source": [
        "xgb = XGBClassifier(alpha=10, n_estimators=10, max_depth=5, random_state=1, n_jobs=-1)\n",
        "xgb.fit(X_train_cv, y_train)"
      ],
      "execution_count": 0,
      "outputs": [
        {
          "output_type": "execute_result",
          "data": {
            "text/plain": [
              "XGBClassifier(alpha=10, base_score=0.5, booster=None, colsample_bylevel=1,\n",
              "              colsample_bynode=1, colsample_bytree=1, gamma=0, gpu_id=-1,\n",
              "              importance_type='gain', interaction_constraints=None,\n",
              "              learning_rate=0.300000012, max_delta_step=0, max_depth=5,\n",
              "              min_child_weight=1, missing=nan, monotone_constraints=None,\n",
              "              n_estimators=10, n_jobs=-1, num_parallel_tree=1,\n",
              "              objective='binary:logistic', random_state=1, reg_alpha=10,\n",
              "              reg_lambda=1, scale_pos_weight=1, subsample=1, tree_method=None,\n",
              "              validate_parameters=False, verbosity=None)"
            ]
          },
          "metadata": {
            "tags": []
          },
          "execution_count": 45
        }
      ]
    },
    {
      "cell_type": "code",
      "metadata": {
        "colab_type": "code",
        "id": "HVy3jG825PS3",
        "outputId": "4c2d0642-8c4c-4b97-d8f7-7ed569d68477",
        "colab": {}
      },
      "source": [
        "y_pred = xgb.predict(X_test_cv) \n",
        "print(confusion_matrix(y_test, y_pred))\n",
        "print('accuracy score  : ', metrics.accuracy_score(y_test, y_pred))"
      ],
      "execution_count": 0,
      "outputs": [
        {
          "output_type": "stream",
          "text": [
            "[[6157  268]\n",
            " [2474 4571]]\n",
            "accuracy score  :  0.7964365256124721\n"
          ],
          "name": "stdout"
        }
      ]
    },
    {
      "cell_type": "markdown",
      "metadata": {
        "id": "xidUOc_-3fmz",
        "colab_type": "text"
      },
      "source": [
        "Se puede apreciar que las métricas no mejoraron respecto al modelo Naive Bayes"
      ]
    },
    {
      "cell_type": "code",
      "metadata": {
        "colab_type": "code",
        "id": "nVOdxZ7P5PS8",
        "outputId": "b4e80eae-ed34-4ffb-842b-4a4f938b9b8c",
        "colab": {}
      },
      "source": [
        "from sklearn.metrics import accuracy_score\n",
        "from sklearn.metrics import recall_score\n",
        "from sklearn.metrics import precision_score\n",
        "from sklearn.metrics import f1_score\n",
        "from sklearn.metrics import roc_auc_score\n",
        "from scikitplot.metrics import plot_roc\n",
        "print('Métricas de predicción para test XGBoost')\n",
        "print(\"Accuracy:\",'{:.2%}'.format(accuracy_score(y_test, y_pred)))\n",
        "print(\"Recall:\",'{:.2%}'.format(recall_score(y_test, y_pred)))\n",
        "print(\"Precisión:\",'{:.2%}'.format(precision_score(y_test, y_pred)))\n",
        "print(\"F1Score:\",'{:.2%}'.format(f1_score(y_test,y_pred)))"
      ],
      "execution_count": 0,
      "outputs": [
        {
          "output_type": "stream",
          "text": [
            "Métricas de predicción para test XGBoost\n",
            "Accuracy: 79.64%\n",
            "Recall: 64.88%\n",
            "Precisión: 94.46%\n",
            "F1Score: 76.93%\n"
          ],
          "name": "stdout"
        }
      ]
    },
    {
      "cell_type": "code",
      "metadata": {
        "colab_type": "code",
        "id": "cSh8oVR85PTB",
        "outputId": "d7e3789c-5e47-4e7b-8be1-e28cc2d1a7db",
        "colab": {}
      },
      "source": [
        "\n",
        "fig, ax = plt.subplots(figsize=(15, 5), dpi=100)   \n",
        "\n",
        "y_predicted_xgb = xgb.predict_proba(X_test_cv)\n",
        "\n",
        "xgb_auc = roc_auc_score(y_test, y_predicted_xgb[:,1])\n",
        "print(\" El valor del AUC es: \" , xgb_auc)\n",
        "\n",
        "plot_roc(y_test,y_predicted_xgb, plot_micro=False, plot_macro=False, ax=ax)"
      ],
      "execution_count": 0,
      "outputs": [
        {
          "output_type": "stream",
          "text": [
            " El valor del AUC es:  0.8735631032302071\n"
          ],
          "name": "stdout"
        },
        {
          "output_type": "execute_result",
          "data": {
            "text/plain": [
              "<matplotlib.axes._subplots.AxesSubplot at 0x1bc8670a548>"
            ]
          },
          "metadata": {
            "tags": []
          },
          "execution_count": 49
        },
        {
          "output_type": "display_data",
          "data": {
            "image/png": "[encoded data removed]",
            "text/plain": [
              "<Figure size 1500x500 with 1 Axes>"
            ]
          },
          "metadata": {
            "tags": []
          }
        }
      ]
    },
    {
      "cell_type": "code",
      "metadata": {
        "id": "-4gsImfm3fm8",
        "colab_type": "code",
        "colab": {}
      },
      "source": [
        ""
      ],
      "execution_count": 0,
      "outputs": []
    },
    {
      "cell_type": "code",
      "metadata": {
        "id": "p5hS8v623fm_",
        "colab_type": "code",
        "colab": {}
      },
      "source": [
        ""
      ],
      "execution_count": 0,
      "outputs": []
    },
    {
      "cell_type": "code",
      "metadata": {
        "id": "ucFB_eEr3fnB",
        "colab_type": "code",
        "colab": {}
      },
      "source": [
        ""
      ],
      "execution_count": 0,
      "outputs": []
    }
  ]
}